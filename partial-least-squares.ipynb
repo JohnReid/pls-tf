{
 "cells": [
  {
   "cell_type": "markdown",
   "id": "b076f092",
   "metadata": {},
   "source": [
    "## Partial least squares\n",
    "\n",
    "The partial least squares model is presented as a latent variable model in Kevin Murphy's 2012 book [Machine Learning: A Probabilistic Perspective](https://probml.github.io/pml-book/).\n",
    "\n",
    "$$\n",
    "p(v_i|\\theta)"
   ]
  },
  {
   "cell_type": "code",
   "execution_count": null,
   "id": "19e9d058",
   "metadata": {},
   "outputs": [],
   "source": []
  }
 ],
 "metadata": {
  "kernelspec": {
   "display_name": "Python 3 (ipykernel)",
   "language": "python",
   "name": "python3"
  },
  "language_info": {
   "codemirror_mode": {
    "name": "ipython",
    "version": 3
   },
   "file_extension": ".py",
   "mimetype": "text/x-python",
   "name": "python",
   "nbconvert_exporter": "python",
   "pygments_lexer": "ipython3",
   "version": "3.9.7"
  }
 },
 "nbformat": 4,
 "nbformat_minor": 5
}
